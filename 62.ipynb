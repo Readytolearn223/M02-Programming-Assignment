{
 "cells": [
  {
   "cell_type": "code",
   "execution_count": 1,
   "metadata": {},
   "outputs": [
    {
     "name": "stdout",
     "output_type": "stream",
     "text": [
      "To low \n",
      "To low \n",
      "To low \n",
      "To low \n",
      "To low \n",
      "To low \n",
      "found it \n"
     ]
    }
   ],
   "source": [
    "guess_me = 7 \n",
    "number=1 \n",
    "while number<= guess_me:\n",
    "    if number< guess_me:\n",
    "        print (\"To low \")\n",
    "    \n",
    "    elif number == guess_me:\n",
    "     print (\"found it \") \n",
    "    else:\n",
    "       print(\"oops\")\n",
    "    number+=1"
   ]
  }
 ],
 "metadata": {
  "kernelspec": {
   "display_name": "Python 3",
   "language": "python",
   "name": "python3"
  },
  "language_info": {
   "codemirror_mode": {
    "name": "ipython",
    "version": 3
   },
   "file_extension": ".py",
   "mimetype": "text/x-python",
   "name": "python",
   "nbconvert_exporter": "python",
   "pygments_lexer": "ipython3",
   "version": "3.12.2"
  }
 },
 "nbformat": 4,
 "nbformat_minor": 2
}
